{
 "cells": [
  {
   "cell_type": "markdown",
   "metadata": {},
   "source": [
    "# Intro\n",
    "\n",
    "- Indexing, slicing, subsetting dataframes\n",
    "- Combining Dataframes with pandas\n",
    "- Data Workflows and Automation\n",
    "- Plotting data\n",
    "\n",
    "\n",
    "# Indexing, slicing, subsetting dataframes\n",
    "**45 min**\n",
    "13:00 – 13:45\n",
    "\n",
    "In this lesson, we will explore ways to access different parts of the data using:\n",
    "\n",
    "- indexing,\n",
    "- slicing, and\n",
    "- subsetting.\n",
    "\n",
    "We will continue to use the surveys dataset that we worked with in the last episode. Let’s reopen and read in the data again:"
   ]
  },
  {
   "cell_type": "code",
   "execution_count": null,
   "metadata": {},
   "outputs": [],
   "source": [
    "# Make sure pandas is loaded\n",
    "import pandas as pd\n",
    "\n",
    "# Read in the survey CSV\n",
    "surveys_df = pd.read_csv(\"surveys.csv\")"
   ]
  },
  {
   "cell_type": "markdown",
   "metadata": {},
   "source": [
    "## Basic math functions on a column\n",
    "\n",
    "Quick note:"
   ]
  },
  {
   "cell_type": "code",
   "execution_count": null,
   "metadata": {
    "scrolled": true
   },
   "outputs": [],
   "source": [
    "# Multiply all weight values by 2\n",
    "surveys_df['weight']*2"
   ]
  },
  {
   "cell_type": "markdown",
   "metadata": {},
   "source": [
    "We often want to work with subsets of a DataFrame object. \n",
    "\n",
    "There are different ways to accomplish this including:\n",
    "\n",
    "- selecting columns\n",
    "- slicing rows\n",
    "- selecting data based on location in dataframe (rows and columns)\n",
    "- selecting data based on values"
   ]
  },
  {
   "cell_type": "markdown",
   "metadata": {},
   "source": [
    "## Selecting columns using labels (column names)\n",
    "\n",
    "We use square brackets to select a subset of a Python object. This includes `pandas` dataframes. \n",
    "\n",
    "Let's first see which column we want to select:"
   ]
  },
  {
   "cell_type": "code",
   "execution_count": null,
   "metadata": {
    "scrolled": true
   },
   "outputs": [],
   "source": [
    "surveys_df.columns"
   ]
  },
  {
   "cell_type": "markdown",
   "metadata": {},
   "source": [
    "Now that we know our column names, we can select all data from a column named `species_id`  in the `surveys_df` DataFrame by using the column name. \n",
    "\n",
    "There are two ways to do this:"
   ]
  },
  {
   "cell_type": "code",
   "execution_count": null,
   "metadata": {},
   "outputs": [],
   "source": [
    "# TIP: use the .head() method we saw earlier to make output shorter\n",
    "# Method 1: select a 'subset' of the data using the column name\n",
    "# this is the square bracket notation\n",
    "surveys_df['species_id']"
   ]
  },
  {
   "cell_type": "code",
   "execution_count": null,
   "metadata": {
    "scrolled": true
   },
   "outputs": [],
   "source": [
    "# Method 2: use the column name as an 'attribute'; gives the same output\n",
    "surveys_df.species_id"
   ]
  },
  {
   "cell_type": "markdown",
   "metadata": {},
   "source": [
    "We can assign our selection to a variable and also take a look at what type of object this is:"
   ]
  },
  {
   "cell_type": "code",
   "execution_count": null,
   "metadata": {},
   "outputs": [],
   "source": [
    "surveys_species = surveys_df['species_id']\n",
    "type(surveys_species)"
   ]
  },
  {
   "cell_type": "markdown",
   "metadata": {},
   "source": [
    "It's a series, including an index from the original dataframe and the values from the species_id column at that index.\n",
    "\n",
    "Take note that this index has numeric values and they start at '0'.\n",
    "\n",
    "\n",
    "We can also select multiple columns, what's different about the notation here? Why?"
   ]
  },
  {
   "cell_type": "code",
   "execution_count": null,
   "metadata": {
    "scrolled": true
   },
   "outputs": [],
   "source": [
    "surveys_df[['species_id', 'plot_id']]"
   ]
  },
  {
   "cell_type": "markdown",
   "metadata": {},
   "source": [
    "What happens if you don't use the 'extra' square brackets?"
   ]
  },
  {
   "cell_type": "code",
   "execution_count": null,
   "metadata": {},
   "outputs": [],
   "source": [
    "surveys_df['species_id', 'plot_id']"
   ]
  },
  {
   "cell_type": "markdown",
   "metadata": {},
   "source": [
    "## A note about indexes\n",
    "\n",
    "The positional index on an object, including a dataframe or series, is numeric and starts at '0'.\n",
    "\n",
    "You can get a value, or a range of values, by specifying their index. Let's first see how this looks on a simpler, one-dimensional, object like a list:"
   ]
  },
  {
   "cell_type": "code",
   "execution_count": null,
   "metadata": {},
   "outputs": [],
   "source": [
    "a = [1, 2, 3, 4, 5]"
   ]
  },
  {
   "cell_type": "markdown",
   "metadata": {},
   "source": [
    "Now, if I want to the second element in `a` we can use it's index to get it. "
   ]
  },
  {
   "cell_type": "code",
   "execution_count": null,
   "metadata": {},
   "outputs": [],
   "source": [
    "a[1]"
   ]
  },
  {
   "cell_type": "markdown",
   "metadata": {},
   "source": [
    "Why did specifying an index of '1' give me the second value?\n",
    "\n",
    "This is because our indexes start at '0'\n",
    "\n",
    "If I want to get a range of values based on their index, I can use `:`. This is calles \"slicing\":"
   ]
  },
  {
   "cell_type": "code",
   "execution_count": null,
   "metadata": {
    "scrolled": true
   },
   "outputs": [],
   "source": [
    "a[:]"
   ]
  },
  {
   "cell_type": "markdown",
   "metadata": {},
   "source": [
    "Leaving this empty returns a slice with all values."
   ]
  },
  {
   "cell_type": "code",
   "execution_count": null,
   "metadata": {},
   "outputs": [],
   "source": [
    "a[1:1]"
   ]
  },
  {
   "cell_type": "markdown",
   "metadata": {},
   "source": [
    "What do you think is happening here? Why didn't we get a value?\n",
    "\n",
    "Slicing by index is exclusive of the last index specified:"
   ]
  },
  {
   "cell_type": "code",
   "execution_count": null,
   "metadata": {
    "scrolled": true
   },
   "outputs": [],
   "source": [
    "a[1:2]"
   ]
  },
  {
   "cell_type": "markdown",
   "metadata": {},
   "source": [
    "## Slicing rows using positional indexes \n",
    "Bringing this positional indexing knowledge back to our dataframe, we can actually slice out rows by also using bracket notation:"
   ]
  },
  {
   "cell_type": "code",
   "execution_count": null,
   "metadata": {},
   "outputs": [],
   "source": [
    "surveys_df[0:3]"
   ]
  },
  {
   "cell_type": "markdown",
   "metadata": {},
   "source": [
    "Now if we think about it, that's a bit strange.\n",
    "A moment ago, our notation for getting a column was pretty much the same:\n",
    "\n",
    "    surveys_df['column_name']\n",
    "\n",
    "now we're using:\n",
    "    \n",
    "    survey_df[#:#]\n",
    "\n",
    "And suddenly we're slicing rows instead of getting columns. There is some back-end magic happening here with the bracket notation.  \n",
    "\n",
    "This all get's more confusing once you know that:\n",
    "\n",
    "- You can change the \"index\" label referring to rows in a dataframe to text instead of numbers, or anything you want; \n",
    "- and the columns not only have names/labels, but also a positional index of their own.\n",
    "\n",
    "So, it's actually better to be much more explicit about what you're grabbing from a dataframe and how you're specifying it's location. \n",
    "\n",
    "This can be by positional index or by a name/label."
   ]
  },
  {
   "cell_type": "markdown",
   "metadata": {},
   "source": [
    "## Selecting data based on location\n",
    "\n",
    "### Use DataFrame.iloc[..., ...] to select values by their (entry) position\n",
    "We can specify the location of a value that we want to get from a dataframe using only positional (numeric) indexes.\n",
    "\n",
    "This is analogous to the index selection in our list, but now we're 2-dimensional:"
   ]
  },
  {
   "cell_type": "code",
   "execution_count": null,
   "metadata": {},
   "outputs": [],
   "source": [
    "#surveys_df.iloc[row_index, column_index] < this is the notation\n",
    "\n",
    "surveys_df.iloc[0, 5]"
   ]
  },
  {
   "cell_type": "markdown",
   "metadata": {},
   "source": [
    "This time, we're getting a single value at the vertical position of '0' and the horizonatal position of '5'. We're referring to the column with a positional index of '5', the name of this column is `species_id`.\n",
    "\n",
    "If we want a slice, we can use the same ':' notation:"
   ]
  },
  {
   "cell_type": "code",
   "execution_count": null,
   "metadata": {},
   "outputs": [],
   "source": [
    "#surveys_df.iloc[row_index:row_index, column_index:column_index] < this is the notation\n",
    "surveys_df.iloc[0:3, 1:4]"
   ]
  },
  {
   "cell_type": "markdown",
   "metadata": {},
   "source": [
    "**Challenge**: Use `.loc` to return the values for the last five rows of the `species_id` and `sex` columns."
   ]
  },
  {
   "cell_type": "code",
   "execution_count": null,
   "metadata": {},
   "outputs": [],
   "source": [
    "# Challenge solutions\n",
    "surveys_df.record_id.count()\n",
    "surveys_df.iloc[35544:35549, 5:7]\n",
    "\n",
    "# or\n",
    "\n",
    "surveys_df.iloc[-5:, 5:7]"
   ]
  },
  {
   "cell_type": "markdown",
   "metadata": {},
   "source": [
    "### Use DataFrame.loc[..., ...] to select values by their (entry) label.\n",
    "\n",
    "Remember that a DataFrame provides a index as a way to identify the rows of the table; a row, then, has a position inside the table as well as a label, which uniquely identifies its entry in the DataFrame.\n",
    "\n",
    "Can specify location by row name analogously to 2D version of dictionary keys.\n"
   ]
  },
  {
   "cell_type": "code",
   "execution_count": null,
   "metadata": {},
   "outputs": [],
   "source": [
    "#surveys_df.loc[row_label, column_label] < this is the notation\n",
    "surveys_df.loc[0, 'species_id']"
   ]
  },
  {
   "cell_type": "markdown",
   "metadata": {},
   "source": [
    "Now, if we're selecting values by their label, why are we still using '0' to identify the row?\n",
    "\n",
    "*(Draw answer)*\n",
    "\n",
    "We can also pull out slices:"
   ]
  },
  {
   "cell_type": "code",
   "execution_count": null,
   "metadata": {
    "scrolled": true
   },
   "outputs": [],
   "source": [
    "#surveys_df.loc[row_label:row_label, column_label:column_label] < this is the notation\n",
    "surveys_df.loc[0:3, 'species_id':'hindfoot_length']"
   ]
  },
  {
   "cell_type": "markdown",
   "metadata": {},
   "source": [
    "**Note**: When we're using the labels instead of the positional index, the end of the range for the slice is inclusive!"
   ]
  },
  {
   "cell_type": "markdown",
   "metadata": {},
   "source": [
    "### Result of slicing can be used in further operations"
   ]
  },
  {
   "cell_type": "code",
   "execution_count": null,
   "metadata": {
    "scrolled": true
   },
   "outputs": [],
   "source": [
    "surveys_df.loc[0:3, 'species_id':'hindfoot_length'].mean()"
   ]
  },
  {
   "cell_type": "markdown",
   "metadata": {},
   "source": [
    "## Subsetting Data using Criteria\n",
    "\n",
    "Now we' look at how you can subset data based on criteria. This is done using some pretty simple syntax, and it's another use of square bracket notation."
   ]
  },
  {
   "cell_type": "markdown",
   "metadata": {},
   "source": [
    "### Use comparisons to select data based on value"
   ]
  },
  {
   "cell_type": "code",
   "execution_count": null,
   "metadata": {},
   "outputs": [],
   "source": [
    "surveys_df[surveys_df.year == 2002]"
   ]
  },
  {
   "cell_type": "markdown",
   "metadata": {},
   "source": [
    "This will give us all rows where the year is 2002. Why do we use two equals signs instead of one?\n",
    "\n",
    "Or we can select all rows that do not contain the year 2002:"
   ]
  },
  {
   "cell_type": "code",
   "execution_count": null,
   "metadata": {},
   "outputs": [],
   "source": [
    "surveys_df[surveys_df.year != 2002]"
   ]
  },
  {
   "cell_type": "markdown",
   "metadata": {},
   "source": [
    "We can also combine sets of criteria:"
   ]
  },
  {
   "cell_type": "code",
   "execution_count": null,
   "metadata": {},
   "outputs": [],
   "source": [
    "surveys_df[(surveys_df.year >= 1980) & (surveys_df.year <= 1985)]\n",
    "\n",
    "# & for and\n",
    "# | for or\n",
    "# surveys_df[(surveys_df.year == 1980) | (surveys_df.year == 1985)]"
   ]
  },
  {
   "cell_type": "markdown",
   "metadata": {},
   "source": [
    "- Equals: ==\n",
    "- Not equals: !=\n",
    "- Greater than, less than: > or <\n",
    "- Greater than or equal to: >=\n",
    "- Less than or equal to: <=\n",
    "\n",
    "\n",
    "### About using Boolean masks\n",
    "\n",
    "Now let's talk about what's going on when we do\n",
    "\n",
    "`surveys_df[surveys_df.year == 2002]`\n",
    "\n",
    "What do we get if we just type:"
   ]
  },
  {
   "cell_type": "code",
   "execution_count": null,
   "metadata": {
    "scrolled": true
   },
   "outputs": [],
   "source": [
    "surveys_df.year == 2002"
   ]
  },
  {
   "cell_type": "markdown",
   "metadata": {},
   "source": [
    "What we get is a series telling us the the index of a row in `surveys_df` and a boolean value of True/False depending on whether the year column contains 2002 in that particular row.\n",
    "\n",
    "Now, we can save this to a variable and apply it to our dataframe:"
   ]
  },
  {
   "cell_type": "code",
   "execution_count": null,
   "metadata": {},
   "outputs": [],
   "source": [
    "mask = surveys_df.year == 2002"
   ]
  },
  {
   "cell_type": "code",
   "execution_count": null,
   "metadata": {},
   "outputs": [],
   "source": [
    "surveys_df[mask]"
   ]
  },
  {
   "cell_type": "markdown",
   "metadata": {},
   "source": [
    "This is called using a \"boolean mask\" and will return the rows in your dataframe where your mask gives a True value, on the same row index.\n",
    "\n",
    "`pandas` also has a neat function that will tell us whether or not values in a datafame are missing, let's find out more about it:"
   ]
  },
  {
   "cell_type": "code",
   "execution_count": null,
   "metadata": {},
   "outputs": [],
   "source": [
    "pd.isna?"
   ]
  },
  {
   "cell_type": "markdown",
   "metadata": {},
   "source": [
    "This indicates whether values are missing (``NaN`` in numeric arrays, ``None`` or ``NaN``.\n",
    "\n",
    "This also returns a dataframe to you filled with booleans!"
   ]
  },
  {
   "cell_type": "code",
   "execution_count": null,
   "metadata": {
    "scrolled": true
   },
   "outputs": [],
   "source": [
    "pd.isna(surveys_df)"
   ]
  },
  {
   "cell_type": "markdown",
   "metadata": {},
   "source": [
    "To select the rows where there are null values in **any** column, we can use the mask as an index to subset our data as follows:"
   ]
  },
  {
   "cell_type": "code",
   "execution_count": null,
   "metadata": {
    "scrolled": true
   },
   "outputs": [],
   "source": [
    "# To select just the rows with NaN values in any column, we can use the 'any()' method\n",
    "# axis = 1 refers to columns\n",
    "\n",
    "surveys_df[pd.isna(surveys_df).any(axis=1)]"
   ]
  },
  {
   "cell_type": "markdown",
   "metadata": {},
   "source": [
    "**Optional Challenge**: Create a new DataFrame that only contains observations with sex values that are not female or male. \n",
    "\n",
    "Assign each sex value in the new DataFrame to a new value of ‘x’. \n",
    "\n",
    "Determine the number of null values in the subset."
   ]
  },
  {
   "cell_type": "code",
   "execution_count": null,
   "metadata": {},
   "outputs": [],
   "source": [
    "new_surveys = surveys_df[(surveys_df.sex != 'M') & (surveys_df.sex != 'F')]\n",
    "new_surveys.sex = 'x'\n",
    "new_surveys"
   ]
  },
  {
   "cell_type": "code",
   "execution_count": null,
   "metadata": {},
   "outputs": [],
   "source": [
    "pd.isna(new_surveys).any(axis=1).count()"
   ]
  },
  {
   "cell_type": "markdown",
   "metadata": {},
   "source": [
    "## Key points\n",
    "- In Python, portions of data can be accessed using indices, slices, column headings, and condition-based subsetting.\n",
    "- Python uses 0-based indexing, in which the first element in a list, tuple or any other data structure has an index of 0.\n",
    "- Pandas enables common data exploration steps such as data indexing, slicing and conditional subsetting."
   ]
  }
 ],
 "metadata": {
  "kernelspec": {
   "display_name": "Python 3",
   "language": "python",
   "name": "python3"
  },
  "language_info": {
   "codemirror_mode": {
    "name": "ipython",
    "version": 3
   },
   "file_extension": ".py",
   "mimetype": "text/x-python",
   "name": "python",
   "nbconvert_exporter": "python",
   "pygments_lexer": "ipython3",
   "version": "3.7.0"
  }
 },
 "nbformat": 4,
 "nbformat_minor": 2
}
