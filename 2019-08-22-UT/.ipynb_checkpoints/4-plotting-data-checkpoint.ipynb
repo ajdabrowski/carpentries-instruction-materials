{
 "cells": [
  {
   "cell_type": "markdown",
   "metadata": {},
   "source": [
    "# Plotting data\n",
    "**45 min**\n",
    "15:45 – 16:30\n",
    "\n",
    "## Making simple plots with Pandas\n",
    "We'll be using the `matplotlib` library for plotting.\n",
    "\n",
    "Before we talk about using `matplotlib` functions directly. We'll get started with plotting the easy way. \n",
    "\n",
    "We can actually create plots using `pandas`, because pandas will call `matplotlib` for us in the background. \n",
    "\n",
    "The Jupyter Notebook will render plots inline if we ask it to using a “magic” command:"
   ]
  },
  {
   "cell_type": "code",
   "execution_count": null,
   "metadata": {
    "scrolled": true
   },
   "outputs": [],
   "source": [
    "import pandas as pd\n",
    "%matplotlib inline \n",
    "# magic function ensuring that plots will be rendered inline"
   ]
  },
  {
   "cell_type": "markdown",
   "metadata": {},
   "source": [
    "We'll keep working with the surveys data, so I'll make sure we have that imported:"
   ]
  },
  {
   "cell_type": "code",
   "execution_count": null,
   "metadata": {},
   "outputs": [],
   "source": [
    "surveys_df = pd.read_csv(\"surveys.csv\")\n",
    "surveys_df.columns # taking a look at the column names to see what may be of interest to plot"
   ]
  },
  {
   "cell_type": "markdown",
   "metadata": {},
   "source": [
    "We'll plot the number of each species that were captured. \n",
    "\n",
    "First we get the number of records for each `species_id`. We'll can do this by using the `.groupby` method:"
   ]
  },
  {
   "cell_type": "code",
   "execution_count": null,
   "metadata": {},
   "outputs": [],
   "source": [
    "counts_by_species = surveys_df.groupby('species_id')['record_id'].count()\n",
    "counts_by_species #let's take a look at the counts, what is the `type()`?"
   ]
  },
  {
   "cell_type": "markdown",
   "metadata": {},
   "source": [
    "### Bar plots\n",
    "Then we can use the `.plot` method that `pandas` provides for series:"
   ]
  },
  {
   "cell_type": "code",
   "execution_count": null,
   "metadata": {
    "scrolled": false
   },
   "outputs": [],
   "source": [
    "counts_by_species.plot(kind='bar')"
   ]
  },
  {
   "cell_type": "markdown",
   "metadata": {},
   "source": [
    "This `pandas` `.plot` method actually uses `matplotlib` in the background.\n",
    "\n",
    "We can also get species counts in simpler way than using `.groupby`. We can use the `value_counts()` method directly on a dataframe. \n",
    "\n",
    "This does groupby, count, and sort in the background for us and returns a \"series\":"
   ]
  },
  {
   "cell_type": "code",
   "execution_count": null,
   "metadata": {
    "scrolled": true
   },
   "outputs": [],
   "source": [
    "species_counts = surveys_df['species_id'].value_counts()\n",
    "species_counts\n",
    "# type(species_counts)"
   ]
  },
  {
   "cell_type": "markdown",
   "metadata": {},
   "source": [
    "And now we can plot the values in the `species_counts` series:"
   ]
  },
  {
   "cell_type": "code",
   "execution_count": null,
   "metadata": {
    "scrolled": true
   },
   "outputs": [],
   "source": [
    "species_counts.plot.bar()"
   ]
  },
  {
   "cell_type": "markdown",
   "metadata": {},
   "source": [
    "The values here are the same, but we see that the species ids have been sorted from highest to lowest count.\n",
    "\n",
    "**Challenge**: Create a bar graph using `pandas` `.plot` that shows the number of records for each plot.\n",
    "**Hint**: Use the `plot_id` column."
   ]
  },
  {
   "cell_type": "code",
   "execution_count": null,
   "metadata": {},
   "outputs": [],
   "source": [
    "# Challenge solutions\n",
    "\n",
    "surveys_df['plot_id'].value_counts().plot.bar()\n",
    "\n",
    "# or\n",
    "\n",
    "surveys_df.groupby('plot_id')['record_id'].count().plot.bar()"
   ]
  },
  {
   "cell_type": "markdown",
   "metadata": {},
   "source": [
    "Let's take another look at our `species_counts`."
   ]
  },
  {
   "cell_type": "code",
   "execution_count": null,
   "metadata": {},
   "outputs": [],
   "source": [
    "species_counts"
   ]
  },
  {
   "cell_type": "markdown",
   "metadata": {},
   "source": [
    "Since there are a lot of low values here and I'd like to make our plots a little easier to look at by restricting ourselves to species that were recorded more than 1000 times.\n",
    "\n",
    "We can also select data we'd like to keep using a \"boolean mask\". \n",
    "\n",
    "This is where what we learned in the \"Subsetting Data using Criteria\" section can be useful:"
   ]
  },
  {
   "cell_type": "code",
   "execution_count": null,
   "metadata": {
    "scrolled": true
   },
   "outputs": [],
   "source": [
    "species_top_counts = species_counts.loc[species_counts > 1000]\n",
    "species_top_counts.plot.bar()"
   ]
  },
  {
   "cell_type": "markdown",
   "metadata": {},
   "source": [
    "If we look at our `species_top_counts` variable, we see that this is also a series with an index of `species_id` and a value that is the count:"
   ]
  },
  {
   "cell_type": "code",
   "execution_count": null,
   "metadata": {},
   "outputs": [],
   "source": [
    "species_top_counts"
   ]
  },
  {
   "cell_type": "markdown",
   "metadata": {},
   "source": [
    "To get the ids for the top species, we can actually extract the index to get a list of the top species:"
   ]
  },
  {
   "cell_type": "code",
   "execution_count": null,
   "metadata": {
    "scrolled": false
   },
   "outputs": [],
   "source": [
    "top_species = species_top_counts.index\n",
    "top_species"
   ]
  },
  {
   "cell_type": "markdown",
   "metadata": {},
   "source": [
    "Just like we selected for the `species_top_counts` from the `species_counts` series using a \"boolean mask\", we can also select rows in our original dataframe based on the `top_species` ids. \n",
    "\n",
    "First we'll create the mask to identify the rows in our dataframe that include one of our `top_species`:"
   ]
  },
  {
   "cell_type": "code",
   "execution_count": null,
   "metadata": {},
   "outputs": [],
   "source": [
    "# If `top_species` is in the `species_id` column for a particular row of our dataframe `surveys_df` \n",
    "# return True, otherwise false.\n",
    "mask = surveys_df.species_id.isin(top_species)\n",
    "# Here is how our mask looks:\n",
    "mask"
   ]
  },
  {
   "cell_type": "markdown",
   "metadata": {},
   "source": [
    "Now we use our \"boolean mask\" to return the rows in the original dataframe where our mask says \"True\", to do this, we use `.loc`:"
   ]
  },
  {
   "cell_type": "code",
   "execution_count": null,
   "metadata": {},
   "outputs": [],
   "source": [
    "top_species_surveys = surveys_df.loc[mask]\n",
    "top_species_surveys"
   ]
  },
  {
   "cell_type": "markdown",
   "metadata": {},
   "source": [
    "*(Draw what is happening `survey_df`, `mask`, and `top_species_surveys`*\n",
    "\n",
    "We can use our subsetted dataframe to look at how many animals from the top species were captured in each plot:"
   ]
  },
  {
   "cell_type": "code",
   "execution_count": null,
   "metadata": {},
   "outputs": [],
   "source": [
    "top_species_at_plots = top_species_surveys['plot_id'].value_counts()\n",
    "top_species_at_plots.plot.bar()"
   ]
  },
  {
   "cell_type": "markdown",
   "metadata": {},
   "source": [
    "But we can also do more using `matplotlib`.\n",
    "\n",
    "## Using matplotlib\n",
    "\n",
    "`matplotlib` is the most widely used scientific plotting library in Python. It is actually used by `pandas` to make these plots. \n",
    "\n",
    "Even though `pandas` can use `matplotlib` to show us plots, we can't call it directly right now. If we want to be able to use it directly to create and manipulate plots, we'll need to import it.\n",
    "\n",
    "The most commonly uses a sub-library is `matplotlib.pyplot`:"
   ]
  },
  {
   "cell_type": "code",
   "execution_count": null,
   "metadata": {},
   "outputs": [],
   "source": [
    "import matplotlib.pyplot as plt"
   ]
  },
  {
   "cell_type": "markdown",
   "metadata": {},
   "source": [
    "### Scatter plot\n",
    "Let's start by making a scatter plot, to compare the `hindfoot_length` and `weight` values in our `top_species_surveys` dataframe.\n",
    "\n",
    "When plotting with `matplotlib` directly, we will need to tell it which pieces of data to use. First, we'll define the variables we'd like to plot:"
   ]
  },
  {
   "cell_type": "code",
   "execution_count": null,
   "metadata": {},
   "outputs": [],
   "source": [
    "# Remove NaN values in our dataframe\n",
    "top_species_surveys = top_species_surveys.dropna(how='any',axis=0)\n",
    "\n",
    "# define x and y for clarity\n",
    "x = top_species_surveys['hindfoot_length']\n",
    "y = top_species_surveys['weight']"
   ]
  },
  {
   "cell_type": "markdown",
   "metadata": {},
   "source": [
    "We'll use the `.scatter` function in pyplot to make out plot, this is very similar to what we gave `pandas` before:"
   ]
  },
  {
   "cell_type": "code",
   "execution_count": null,
   "metadata": {},
   "outputs": [],
   "source": [
    "## Instead of: top_species_surveys.plot.scatter\n",
    "plt.scatter(x, y)\n",
    "plt.show() # not necessary in Jupyter Notebooks because this is an interactive entivnment"
   ]
  },
  {
   "cell_type": "markdown",
   "metadata": {},
   "source": [
    "**Note**: Scatter plot will actually ignores `NaN` values, but to be cleaner and on the safe side for other uses we removed `NaN` values from our data."
   ]
  },
  {
   "cell_type": "markdown",
   "metadata": {},
   "source": [
    "We can also learn more about how to use scatter:"
   ]
  },
  {
   "cell_type": "code",
   "execution_count": null,
   "metadata": {},
   "outputs": [],
   "source": [
    "plt.scatter?"
   ]
  },
  {
   "cell_type": "markdown",
   "metadata": {},
   "source": [
    "We can change the appearance of our scatter plot by changing the default options, including the marker size, color, and shape:"
   ]
  },
  {
   "cell_type": "code",
   "execution_count": null,
   "metadata": {
    "scrolled": true
   },
   "outputs": [],
   "source": [
    "plt.scatter(x, y, s=10, c='g', marker='x')"
   ]
  },
  {
   "cell_type": "markdown",
   "metadata": {},
   "source": [
    "**Note**: In Jupyter Notebooks, we don't need to use `plt.show()` because this is an interactive environment. In other coding environments, you may need this function to show the plot.\n",
    "\n",
    "We can also use `matplotlib` to add more information to our plot, including a title, and x and y labels:"
   ]
  },
  {
   "cell_type": "code",
   "execution_count": null,
   "metadata": {
    "scrolled": false
   },
   "outputs": [],
   "source": [
    "plt.scatter(x, y, s=10, c='green', marker='o')\n",
    "plt.title(\"Hind foot length and weight\")\n",
    "plt.xlabel(\"Hind foot length\")\n",
    "plt.ylabel(\"Weight\")"
   ]
  },
  {
   "cell_type": "markdown",
   "metadata": {},
   "source": [
    "`matplotlib` also makes other styles available for our figures:"
   ]
  },
  {
   "cell_type": "code",
   "execution_count": null,
   "metadata": {
    "scrolled": false
   },
   "outputs": [],
   "source": [
    "plt.style.available"
   ]
  },
  {
   "cell_type": "markdown",
   "metadata": {},
   "source": [
    "Let's try a new style, and also change the size for our labels:"
   ]
  },
  {
   "cell_type": "code",
   "execution_count": null,
   "metadata": {},
   "outputs": [],
   "source": [
    "plt.style.use('seaborn-whitegrid')\n",
    "plt.scatter(x, y, s=10, c='green', marker='o')\n",
    "plt.title(\"Hind foot length and weight\", fontsize=22)\n",
    "plt.xlabel(\"Hind foot length\", fontsize=16)\n",
    "plt.ylabel(\"Weight\", fontsize=16)"
   ]
  },
  {
   "cell_type": "markdown",
   "metadata": {},
   "source": [
    "`Matplotlib` has a lot of functionality and can be overwhelming. So, it's worth remembering there are multiple ways of doing things.\n",
    "\n",
    "A useful strategy is to do as much as you easily can in a convenience layer. We can start by creating a plot using `pandas`, and then combine this with calls to `matplotlib` for the rest.\n",
    "\n",
    "Going back to our `top_species_surveys` dataframe, we'll use `plot.scatter` from there with options:"
   ]
  },
  {
   "cell_type": "code",
   "execution_count": null,
   "metadata": {
    "scrolled": true
   },
   "outputs": [],
   "source": [
    "top_species_surveys.plot.scatter(x=\"hindfoot_length\", y=\"weight\", \n",
    "                title=\"Hind foot length and weight\", s=10, \n",
    "                c='green', marker='x')"
   ]
  },
  {
   "cell_type": "markdown",
   "metadata": {},
   "source": [
    "This figure made through `pandas` will automatically display the x and y labels from the dataframe column names. We can also find out more about using `df.plot`:"
   ]
  },
  {
   "cell_type": "code",
   "execution_count": null,
   "metadata": {},
   "outputs": [],
   "source": [
    "surveys_df.plot?"
   ]
  },
  {
   "cell_type": "markdown",
   "metadata": {},
   "source": [
    "Now we can still add on to the plot with `matplotlib`:"
   ]
  },
  {
   "cell_type": "code",
   "execution_count": null,
   "metadata": {},
   "outputs": [],
   "source": [
    "surveys_df.plot(x=\"hindfoot_length\", y=\"weight\", kind=\"scatter\", \n",
    "                s=10, c='green', marker='x')\n",
    "plt.title(\"Hind foot length and weight\", fontsize=22)\n",
    "plt.xlabel(\"Hind foot length\", fontsize=16)\n",
    "plt.ylabel(\"Weight\", fontsize=16)"
   ]
  },
  {
   "cell_type": "markdown",
   "metadata": {},
   "source": [
    "This plot gives us an idea of the hindfoot length by weight across all species, we see a few clusters, but we can't tell which species our points are associated with.\n",
    "\n",
    "Let's try adding this information to our plot by changing the colors of our points. We'll do this using the `groupby` method on our `top_species_surveys` dataframe and then plotting."
   ]
  },
  {
   "cell_type": "code",
   "execution_count": null,
   "metadata": {
    "scrolled": false
   },
   "outputs": [],
   "source": [
    "plt.style.use('seaborn-bright')\n",
    "surveys_by_top_species = top_species_surveys.groupby('species_id')\n",
    "\n",
    "for species, data in surveys_by_top_species: # Explain what's going on here\n",
    "    plt.scatter(data.hindfoot_length, data.weight, label=species,\n",
    "                s=10, marker='o', alpha=0.5)\n",
    "\n",
    "plt.title(\"Hind foot length and weight by species\", fontsize=16)\n",
    "plt.xlabel(\"Hind foot length\", fontsize=16)\n",
    "plt.ylabel(\"Weight\", fontsize=16)\n",
    "plt.legend(loc='best', frameon=True, edgecolor='black') # Mess around a bit with the legend"
   ]
  },
  {
   "cell_type": "markdown",
   "metadata": {},
   "source": [
    "This time, We included a label for each species plotted and a legend. Can you tell what the `alpha` option does?\n",
    "\n",
    "Our legend shows that we only have 6 unique colors for 11 different species. So, we can't distinguish between DM and PB in our scatter plot.\n",
    "\n",
    "**Challenge**: Try to change the size of the points for each species."
   ]
  },
  {
   "cell_type": "code",
   "execution_count": null,
   "metadata": {},
   "outputs": [],
   "source": [
    "# Challenge Solution\n",
    "\n",
    "plt.style.use('seaborn-bright')\n",
    "surveys_by_top_species = top_species_surveys.groupby('species_id')\n",
    "\n",
    "size = 8 # new line\n",
    "\n",
    "for species, data in surveys_by_top_species:\n",
    "    plt.scatter(data.hindfoot_length, data.weight, label=species,\n",
    "                s=size, marker='o', alpha=0.5)\n",
    "    size += 3 # new line, same as size = size + 3\n",
    "\n",
    "plt.title(\"Hind foot length and weight by species\", fontsize=16)\n",
    "plt.xlabel(\"Hind foot length\", fontsize=16)\n",
    "plt.ylabel(\"Weight\", fontsize=16)\n",
    "plt.legend(loc='best', frameon=True, edgecolor='black')"
   ]
  },
  {
   "cell_type": "code",
   "execution_count": null,
   "metadata": {},
   "outputs": [],
   "source": [
    "plt.legend?"
   ]
  },
  {
   "cell_type": "markdown",
   "metadata": {},
   "source": [
    "Now let's save our plot to a file:"
   ]
  },
  {
   "cell_type": "code",
   "execution_count": null,
   "metadata": {},
   "outputs": [],
   "source": [
    "plt.style.use('seaborn-paper')\n",
    "surveys_by_top_species = top_species_surveys.groupby('species_id')\n",
    "\n",
    "size = 8\n",
    "\n",
    "for species, data in surveys_by_top_species:\n",
    "    plt.scatter(data.hindfoot_length, data.weight, label=species,\n",
    "                s=size, marker='o', alpha=0.5)\n",
    "    size += 3\n",
    "\n",
    "plt.title(\"Hind foot length and weight by species\", fontsize=16)\n",
    "plt.xlabel(\"Hind foot length\", fontsize=16)\n",
    "plt.ylabel(\"Weight\", fontsize=16)\n",
    "plt.legend(loc='best', frameon=True, edgecolor='black')\n",
    "\n",
    "plt.savefig(\"my_figure.png\") # new line"
   ]
  },
  {
   "cell_type": "markdown",
   "metadata": {},
   "source": [
    "If you happen to want to do this across two Juptyer windows, or just want to refer to this figure later, you can first save a reference to the current figure in a local variable:"
   ]
  },
  {
   "cell_type": "code",
   "execution_count": null,
   "metadata": {},
   "outputs": [],
   "source": [
    "plt.style.use('seaborn-paper')\n",
    "surveys_by_top_species = top_species_surveys.groupby('species_id')\n",
    "\n",
    "size = 8\n",
    "\n",
    "fig = plt.gcf() # new line, save a reference to the current figure in a local variable\n",
    "\n",
    "for species, data in surveys_by_top_species:\n",
    "    plt.scatter(data.hindfoot_length, data.weight, label=species,\n",
    "                s=size, marker='o', alpha=0.5)\n",
    "    size += 3\n",
    "\n",
    "plt.title(\"Hind foot length and weight by species\", fontsize=16)\n",
    "plt.xlabel(\"Hind foot length\", fontsize=16)\n",
    "plt.ylabel(\"Weight\", fontsize=16)\n",
    "plt.legend(loc='best', frameon=True, edgecolor='black')"
   ]
  },
  {
   "cell_type": "markdown",
   "metadata": {},
   "source": [
    "And then save the figure:"
   ]
  },
  {
   "cell_type": "code",
   "execution_count": null,
   "metadata": {},
   "outputs": [],
   "source": [
    "fig.savefig(\"my_figure.pdf\")"
   ]
  },
  {
   "cell_type": "markdown",
   "metadata": {},
   "source": [
    "This will save the current figure to the file \"my_figure.png\". \n",
    "\n",
    "The file format will automatically be deduced from the file name extension (other formats are jpg, pdf, ps, eps and svg)."
   ]
  },
  {
   "cell_type": "markdown",
   "metadata": {},
   "source": [
    "## Key Points\n",
    "- `Matplotlib` is the engine behind `Pandas` plots.\n",
    "- Object-based nature of matplotlib plots enables their detailed customization after they have been created.\n",
    "- Export plots to a file using the `savefig` method.\n",
    "- There are other libraries for plotting worth looking up, including: `seaborn`, `plotnine`, `plot.ly`."
   ]
  },
  {
   "cell_type": "code",
   "execution_count": null,
   "metadata": {},
   "outputs": [],
   "source": []
  }
 ],
 "metadata": {
  "kernelspec": {
   "display_name": "Python 3",
   "language": "python",
   "name": "python3"
  },
  "language_info": {
   "codemirror_mode": {
    "name": "ipython",
    "version": 3
   },
   "file_extension": ".py",
   "mimetype": "text/x-python",
   "name": "python",
   "nbconvert_exporter": "python",
   "pygments_lexer": "ipython3",
   "version": "3.8.5"
  }
 },
 "nbformat": 4,
 "nbformat_minor": 2
}
